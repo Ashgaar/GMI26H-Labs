{
 "cells": [
  {
   "cell_type": "markdown",
   "metadata": {},
   "source": [
    "## Cryptography GMI26H\n",
    "# Dalarna University, \n",
    "# Autumn 2022\n",
    "# Advanced Encyption Standard (AES)\n",
    "### Deadline: 27 October, 2022, 23:59 CET time\n",
    "\n",
    "### --------------------------------------------------------------------------------------------------------------------------------------------------------------\n",
    "\n",
    "### Student name: Mikael Olsson\n",
    "### Student ID: h20mikol\n",
    "### University email address: h20mikol@du.se\n",
    "### --------------------------------------------------------------------------------------------------------------------------------------------------------------"
   ]
  },
  {
   "cell_type": "markdown",
   "metadata": {},
   "source": [
    "This document is a Jupyter notebook which will be used during the whole course. Students will run one lab every week as follows:\n",
    "\n",
    "Week 3 of the course Lab 1\n",
    "\n",
    "Week 4 of the course Lab 2\n",
    "\n",
    "Week 5 of the course Lab 3\n",
    "\n",
    "Week 6 of the course Lab 4, 5, and 6"
   ]
  },
  {
   "cell_type": "markdown",
   "metadata": {},
   "source": [
    "## Cryptography Lab 1"
   ]
  },
  {
   "cell_type": "markdown",
   "metadata": {},
   "source": [
    "## \n",
    "## 1. Key:"
   ]
  },
  {
   "cell_type": "markdown",
   "metadata": {},
   "source": [
    "In the file **testKey**, a test key is provided. testKey is in plain text but represents bytes. Since AES-256 uses a key that is 256 bit long it corresponds to a key that is 256/8 bytes long. That is, the key is 32 bytes long, where each byte is encoded as two characters in hexadecimals. That is, the 256-bit key is represented as a string of length 64 hexamdecimal characters. <font color=red>We want the key to be transformed into a list of hexadecimal integers.</font>"
   ]
  },
  {
   "cell_type": "markdown",
   "metadata": {},
   "source": [
    "**Method: getKey(filename)**\n",
    "\n",
    "Create the method that does the following:\n",
    "\n",
    "**Method name:** getKey()\n",
    "\n",
    "**Input:** String filename\n",
    "\n",
    "**Output:** List of integers"
   ]
  },
  {
   "cell_type": "markdown",
   "metadata": {},
   "source": [
    "**Hint:**\n",
    "The following Python methods may help you to build the getKey():\n",
    "\n",
    "• hex()\n",
    "\n",
    "• open()\n",
    "\n",
    "• file.read()\n",
    "\n",
    "• string.decode()\n",
    "\n",
    "• map()\n",
    "\n",
    "• ord()"
   ]
  },
  {
   "cell_type": "code",
   "execution_count": 2809,
   "metadata": {},
   "outputs": [],
   "source": [
    "def getKey(testKey):\n",
    "    file  = open(testKey,\"r\") # opens the file\n",
    "    key = file.read() # sets key to be equal to the key stored in the file\n",
    "    \n",
    "    hexa_list = [] \n",
    "    for i in range(int(len(key)/2)): # i iterates from 0 to 31\n",
    "        first_char = key[i*2] # sets the first character to be equal to i * 2 since there are 64 characters which will get every other character\n",
    "        second_char = key[(i *2) + 1] # sets the second character to be (i * 2) + 1 since we want the character to the right of the previous one\n",
    "        \n",
    "        char = first_char + second_char # put the 2 characters together\n",
    "        \n",
    "        hexa_list.append(char) # add the hexadecimal to the list\n",
    "\n",
    "    int_list = []\n",
    "    for i in hexa_list: # iterate over the created list\n",
    "        int_list.append(int(i,base=16)) # convert the hexadecimal to integer    \n",
    "\n",
    "    return(int_list) # return the converted list\n"
   ]
  },
  {
   "cell_type": "markdown",
   "metadata": {},
   "source": [
    "The following code can be used to test your method implementation. The list after \"Output:\" is what the \"print(key)\" command should print out."
   ]
  },
  {
   "cell_type": "code",
   "execution_count": 2810,
   "metadata": {},
   "outputs": [
    {
     "name": "stdout",
     "output_type": "stream",
     "text": [
      "[0, 1, 2, 3, 4, 5, 6, 7, 8, 9, 10, 11, 12, 13, 14, 15, 16, 17, 18, 19, 20, 21, 22, 23, 24, 25, 26, 27, 28, 29, 30, 31]\n"
     ]
    }
   ],
   "source": [
    "key = getKey(\"testKey\")\n",
    "print(key)"
   ]
  },
  {
   "cell_type": "markdown",
   "metadata": {},
   "source": [
    "**Output:**\n",
    "\n",
    "    [0, 1, 2, 3, 4, 5, 6, 7, 8, 9, 10, 11, 12, 13, 14, 15, 16, 17, 18, 19, 20, 21, 22, 23, 24, 25, 26, 27, 28, 29, 30, 31]"
   ]
  },
  {
   "cell_type": "markdown",
   "metadata": {},
   "source": [
    "## 2. Block"
   ]
  },
  {
   "cell_type": "markdown",
   "metadata": {},
   "source": [
    "In the file **testBlock**, a test block, which is a plain text but represents bytes, is provided. Since all versions of AES operate on blocks with the fix size of 128 bits, it corresponds to a block that is 128/8 bytes long. That is, the block is 16 bytes long, where each byte is encoded as two characters in hexadecimal. The 128-bit block is thus represented as a string of length 32.\n",
    "\n",
    "In reality blocks have the format of a 4x4 matrix. In Python, matrices are typically lists. The first 4 values can be represented as the first column of the matrix, the next 4 as the second column, and so on. You can decide your format of the block yourself."
   ]
  },
  {
   "cell_type": "markdown",
   "metadata": {},
   "source": [
    "**Method: getBlock(filename)**\n",
    "\n",
    "Create method that does the following:\n",
    "\n",
    "**Method name:** getBlock()\n",
    "\n",
    "**Input:** String filename\n",
    "\n",
    "**Output:** List (or other format) of integers"
   ]
  },
  {
   "cell_type": "markdown",
   "metadata": {},
   "source": [
    "**Hint:** The following Python methods may help you to build the method\n",
    "\n",
    "hex()\n",
    "\n",
    "open()\n",
    "\n",
    "file.read()\n",
    "\n",
    "string.decode()\n",
    "\n",
    "map()\n",
    "\n",
    "ord()"
   ]
  },
  {
   "cell_type": "markdown",
   "metadata": {},
   "source": [
    "https://en.wikipedia.org/wiki/Advanced_Encryption_Standard#High-level_description_of_the_%20algorithm"
   ]
  },
  {
   "cell_type": "code",
   "execution_count": 2811,
   "metadata": {},
   "outputs": [],
   "source": [
    "def getBlock(testBlock):\n",
    "    file  = open(testBlock,\"r\") # opens the file\n",
    "    block = file.read() # sets block to be equal to the key stored in the file\n",
    "    \n",
    "    hexa_list = []\n",
    "    \n",
    "    for i in range(int(len(block)/2)): # i iterates from 0 to 31\n",
    "        first_char = block[i*2] # sets the first character to be equal to i * 2 since there are 64 characters which will get every other character\n",
    "        second_char = block[(i *2) + 1] # sets the second character to be (i * 2) + 1 since we want the character to the right of the previous one\n",
    "        \n",
    "        char = first_char + second_char # put the 2 characters together\n",
    "        \n",
    "        hexa_list.append(char) # add the hexadecimal to the list\n",
    "\n",
    "    int_list = []\n",
    "    for i in hexa_list: # iterate over the created list\n",
    "        int_list.append(int(i, base=16)) # convert the hexadecimal to integer\n",
    "\n",
    "    return(int_list) # return the converted list\n",
    "    "
   ]
  },
  {
   "cell_type": "code",
   "execution_count": 2812,
   "metadata": {},
   "outputs": [
    {
     "name": "stdout",
     "output_type": "stream",
     "text": [
      "[0, 17, 34, 51, 68, 85, 102, 119, 136, 153, 170, 187, 204, 221, 238, 255]\n"
     ]
    }
   ],
   "source": [
    "block = getBlock(\"testBlock\")\n",
    "print(block)"
   ]
  },
  {
   "cell_type": "markdown",
   "metadata": {},
   "source": [
    "**Output:**\n",
    "\n",
    "    [0, 17, 34, 51, 68, 85, 102, 119, 136, 153, 170, 187, 204, 221, 238, 255]"
   ]
  },
  {
   "cell_type": "markdown",
   "metadata": {},
   "source": []
  },
  {
   "cell_type": "markdown",
   "metadata": {},
   "source": [
    "## 3. sbox, sboxInv and rcon"
   ]
  },
  {
   "cell_type": "markdown",
   "metadata": {},
   "source": [
    "From the following Wikipedia articles:\n",
    "\n",
    "• https://en.wikipedia.org/wiki/Rijndael_S-box\n",
    "\n",
    "• https://en.wikipedia.org/wiki/Rijndael_key_schedule\n",
    "\n",
    "Create three Python code blocks, where each code block contains one of the three lists described in their respective Wikipedia articles. "
   ]
  },
  {
   "cell_type": "code",
   "execution_count": 2813,
   "metadata": {},
   "outputs": [],
   "source": [
    "hexa_sbox = [\"63\", \"7C\", \"77\", \"7B\", \"F2\", \"6B\", \"6F\", \"C5\", \"30\", \"01\", \"67\", \"2B\", \"FE\", \"D7\", \"AB\", \"76\",\n",
    "            \"CA\", \"82\", \"C9\", \"7D\", \"FA\", \"59\", \"47\", \"F0\", \"AD\", \"D4\", \"A2\", \"AF\", \"9C\", \"A4\", \"72\", \"C0\",\n",
    "            \"B7\", \"FD\", \"93\", \"26\", \"36\", \"3F\", \"F7\", \"CC\", \"34\", \"A5\", \"E5\", \"F1\", \"71\", \"D8\", \"31\", \"15\",\n",
    "            \"04\", \"C7\", \"23\", \"C3\", \"18\", \"96\", \"05\", \"9A\", \"07\", \"12\", \"80\", \"E2\", \"EB\", \"27\", \"B2\", \"75\",\n",
    "            \"09\", \"83\", \"2C\", \"1A\", \"1B\", \"6E\", \"5A\", \"A0\", \"52\", \"3B\", \"D6\", \"B3\", \"29\", \"E3\", \"2F\", \"84\",\n",
    "            \"53\", \"D1\", \"00\", \"ED\", \"20\", \"FC\", \"B1\", \"5B\", \"6A\", \"CB\", \"BE\", \"39\", \"4A\", \"4C\", \"58\", \"CF\",\n",
    "            \"D0\", \"EF\", \"AA\", \"FB\", \"43\", \"4D\", \"33\", \"85\", \"45\", \"F9\", \"02\", \"7F\", \"50\", \"3C\", \"9F\", \"A8\",\n",
    "            \"51\", \"A3\", \"40\", \"8F\", \"92\", \"9D\", \"38\", \"F5\", \"BC\", \"B6\", \"DA\", \"21\", \"10\", \"FF\", \"F3\", \"D2\",\n",
    "            \"CD\", \"0C\", \"13\", \"EC\", \"5F\", \"97\", \"44\", \"17\", \"C4\", \"A7\", \"7E\", \"3D\", \"64\", \"5D\", \"19\", \"73\",\n",
    "            \"60\", \"81\", \"4F\", \"DC\", \"22\", \"2A\", \"90\", \"88\", \"46\", \"EE\", \"B8\", \"14\", \"DE\", \"5E\", \"0B\", \"DB\",\n",
    "            \"E0\", \"32\", \"3A\", \"0A\", \"49\", \"06\", \"24\", \"5C\", \"C2\", \"D3\", \"AC\", \"62\", \"91\", \"95\", \"E4\", \"79\",\n",
    "            \"E7\", \"C8\", \"37\", \"6D\", \"8D\", \"D5\", \"4E\", \"A9\", \"6C\", \"56\", \"F4\", \"EA\", \"65\", \"7A\", \"AE\", \"08\",\n",
    "            \"BA\", \"78\", \"25\", \"2E\", \"1C\", \"A6\", \"B4\", \"C6\", \"E8\", \"DD\", \"74\", \"1F\", \"4B\", \"BD\", \"8B\", \"8A\",\n",
    "            \"70\", \"3E\", \"B5\", \"66\", \"48\", \"03\", \"F6\", \"0E\", \"61\", \"35\", \"57\", \"B9\", \"86\", \"C1\", \"1D\", \"9E\",\n",
    "            \"E1\", \"F8\", \"98\", \"11\", \"69\", \"D9\", \"8E\", \"94\", \"9B\", \"1E\", \"87\", \"E9\", \"CE\", \"55\", \"28\", \"DF\",\n",
    "            \"8C\", \"A1\", \"89\", \"0D\", \"BF\", \"E6\", \"42\", \"68\", \"41\", \"99\", \"2D\", \"0F\", \"B0\", \"54\", \"BB\", \"16\"]\n",
    "sbox = []\n",
    "\n",
    "for i in hexa_sbox:\n",
    "    sbox.append(int(i, 16))\n",
    "\n",
    "hexa_sboxInv = [\"52\", \"09\", \"6A\", \"D5\", \"30\", \"36\", \"A5\", \"38\", \"BF\", \"40\", \"A3\", \"9E\", \"81\", \"F3\", \"D7\", \"FB\",\n",
    "            \"7C\", \"E3\", \"39\", \"82\", \"9B\", \"2F\", \"FF\", \"87\", \"34\", \"8E\", \"43\", \"44\", \"C4\", \"DE\", \"E9\", \"CB\",\n",
    "            \"54\", \"7B\", \"94\", \"32\", \"A6\", \"C2\", \"23\", \"3D\", \"EE\", \"4C\", \"95\", \"0B\", \"42\", \"FA\", \"C3\", \"4E\",\n",
    "            \"08\", \"2E\", \"A1\", \"66\", \"28\", \"D9\", \"24\", \"B2\", \"76\", \"5B\", \"A2\", \"49\", \"6D\", \"8B\", \"D1\", \"25\",\n",
    "            \"72\", \"F8\", \"F6\", \"64\", \"86\", \"68\", \"98\", \"16\", \"D4\", \"A4\", \"5C\", \"CC\", \"5D\", \"65\", \"B6\", \"92\",\n",
    "            \"6C\", \"70\", \"48\", \"50\", \"FD\", \"ED\", \"B9\", \"DA\", \"5E\", \"15\", \"46\", \"57\", \"A7\", \"8D\", \"9D\", \"84\",\n",
    "            \"90\", \"D8\", \"AB\", \"00\", \"8C\", \"BC\", \"D3\", \"0A\", \"F7\", \"E4\", \"58\", \"05\", \"B8\", \"B3\", \"45\", \"06\",\n",
    "            \"D0\", \"2C\", \"1E\", \"8F\", \"CA\", \"3F\", \"0F\", \"02\", \"C1\", \"AF\", \"BD\", \"03\", \"01\", \"13\", \"8A\", \"6B\",\n",
    "            \"3A\", \"91\", \"11\", \"41\", \"4F\", \"67\", \"DC\", \"EA\", \"97\", \"F2\", \"CF\", \"CE\", \"F0\", \"B4\", \"E6\", \"73\",\n",
    "            \"96\", \"AC\", \"74\", \"22\", \"E7\", \"AD\", \"35\", \"85\", \"E2\", \"F9\", \"37\", \"E8\", \"1C\", \"75\", \"DF\", \"6E\",\n",
    "            \"47\", \"F1\", \"1A\", \"71\", \"1D\", \"29\", \"C5\", \"89\", \"6F\", \"B7\", \"62\", \"0E\", \"AA\", \"18\", \"BE\", \"1B\",\n",
    "            \"FC\", \"56\", \"3E\", \"4B\", \"C6\", \"D2\", \"79\", \"20\", \"9A\", \"DB\", \"C0\", \"FE\", \"78\", \"CD\", \"5A\", \"F4\",\n",
    "            \"1F\", \"DD\", \"A8\", \"33\", \"88\", \"07\", \"C7\", \"31\", \"B1\", \"12\", \"10\", \"59\", \"27\", \"80\", \"EC\", \"5F\",\n",
    "            \"60\", \"51\", \"7F\", \"A9\", \"19\", \"B5\", \"4A\", \"0D\", \"2D\", \"E5\", \"7A\", \"9F\", \"93\", \"C9\", \"9C\", \"EF\",\n",
    "            \"A0\", \"E0\", \"3B\", \"4D\", \"AE\", \"2A\", \"F5\", \"B0\", \"C8\", \"EB\", \"BB\", \"3C\", \"83\", \"53\", \"99\", \"61\",\n",
    "            \"17\", \"2B\", \"04\", \"7E\", \"BA\", \"77\", \"D6\", \"26\", \"E1\", \"69\", \"14\", \"63\", \"55\", \"21\", \"0C\", \"7D\"]\n",
    "sboxInv = []\n",
    "\n",
    "for i in hexa_sboxInv:\n",
    "    sboxInv.append(int(i,16))\n",
    "\n",
    "\n",
    "hexa_rcon = [\"8d\", \"01\", \"02\", \"04\", \"08\", \"10\", \"20\", \"40\", \"80\", \"1b\", \"36\", \"6c\", \n",
    "    \"d8\", \"ab\", \"4d\", \"9a\", \"2f\", \"5e\", \"bc\", \"63\", \"c6\", \"97\", \"35\", \"6a\", \n",
    "    \"d4\", \"b3\", \"7d\", \"fa\", \"ef\", \"c5\", \"91\", \"39\", \"72\", \"e4\", \"d3\", \"bd\", \n",
    "    \"61\", \"c2\", \"9f\", \"25\", \"4a\", \"94\", \"33\", \"66\", \"cc\", \"83\", \"1d\", \"3a\", \n",
    "    \"74\", \"e8\", \"cb\", \"8d\", \"01\", \"02\", \"04\", \"08\", \"10\", \"20\", \"40\", \"80\", \n",
    "    \"1b\", \"36\", \"6c\", \"d8\", \"ab\", \"4d\", \"9a\", \"2f\", \"5e\", \"bc\", \"63\", \"c6\", \n",
    "    \"97\", \"35\", \"6a\", \"d4\", \"b3\", \"7d\", \"fa\", \"ef\", \"c5\", \"91\", \"39\", \"72\", \n",
    "    \"e4\", \"d3\", \"bd\", \"61\", \"c2\", \"9f\", \"25\", \"4a\", \"94\", \"33\", \"66\", \"cc\", \n",
    "    \"83\", \"1d\", \"3a\", \"74\", \"e8\", \"cb\", \"8d\", \"01\", \"02\", \"04\", \"08\", \"10\", \n",
    "    \"20\", \"40\", \"80\", \"1b\", \"36\", \"6c\", \"d8\", \"ab\", \"4d\", \"9a\", \"2f\", \"5e\", \n",
    "    \"bc\", \"63\", \"c6\", \"97\", \"35\", \"6a\", \"d4\", \"b3\", \"7d\", \"fa\", \"ef\", \"c5\", \n",
    "    \"91\", \"39\", \"72\", \"e4\", \"d3\", \"bd\", \"61\", \"c2\", \"9f\", \"25\", \"4a\", \"94\", \n",
    "    \"33\", \"66\", \"cc\", \"83\", \"1d\", \"3a\", \"74\", \"e8\", \"cb\", \"8d\", \"01\", \"02\", \n",
    "    \"04\", \"08\", \"10\", \"20\", \"40\", \"80\", \"1b\", \"36\", \"6c\", \"d8\", \"ab\", \"4d\", \n",
    "    \"9a\", \"2f\", \"5e\", \"bc\", \"63\", \"c6\", \"97\", \"35\", \"6a\", \"d4\", \"b3\", \"7d\", \n",
    "    \"fa\", \"ef\", \"c5\", \"91\", \"39\", \"72\", \"e4\", \"d3\", \"bd\", \"61\", \"c2\", \"9f\", \n",
    "    \"25\", \"4a\", \"94\", \"33\", \"66\", \"cc\", \"83\", \"1d\", \"3a\", \"74\", \"e8\", \"cb\", \n",
    "    \"8d\", \"01\", \"02\", \"04\", \"08\", \"10\", \"20\", \"40\", \"80\", \"1b\", \"36\", \"6c\", \n",
    "    \"d8\", \"ab\", \"4d\", \"9a\", \"2f\", \"5e\", \"bc\", \"63\", \"c6\", \"97\", \"35\", \"6a\", \n",
    "    \"d4\", \"b3\", \"7d\", \"fa\", \"ef\", \"c5\", \"91\", \"39\", \"72\", \"e4\", \"d3\", \"bd\", \n",
    "    \"61\", \"c2\", \"9f\", \"25\", \"4a\", \"94\", \"33\", \"66\", \"cc\", \"83\", \"1d\", \"3a\", \n",
    "    \"74\", \"e8\", \"cb\", \"8d\"]\n",
    "rcon = []\n",
    "\n",
    "for i in hexa_rcon:\n",
    "    rcon.append(int(i,16))\n"
   ]
  },
  {
   "cell_type": "code",
   "execution_count": 2814,
   "metadata": {},
   "outputs": [
    {
     "name": "stdout",
     "output_type": "stream",
     "text": [
      "99\n",
      "82\n",
      "141\n"
     ]
    }
   ],
   "source": [
    "#Check that you can run the following commands to see if the lists map integers correctly:\n",
    "print(sbox[0])\n",
    "print(sboxInv[0])\n",
    "print(rcon[0])\n"
   ]
  },
  {
   "cell_type": "markdown",
   "metadata": {},
   "source": [
    "**Output:**\n",
    "\n",
    "    99 82 141"
   ]
  },
  {
   "cell_type": "markdown",
   "metadata": {},
   "source": [
    "# Cryptography Lab 2"
   ]
  },
  {
   "cell_type": "markdown",
   "metadata": {},
   "source": [
    "# 1. shiftRows"
   ]
  },
  {
   "cell_type": "markdown",
   "metadata": {},
   "source": [
    "shiftRows is a static block-operator. Meaning that it performs the same action every time it is called. It simply shifts each row to the left the same number of steps as the current row number. See: https://en.wikipedia.org/wiki/Advanced_Encryption_Standard#The_ShiftRows_step\n",
    "\n",
    "Depending on how you have structured your block the implementation for this will be different. A list can be used to represent the matrix, where the first 4 elements corresponds to the first column, the next 4 elements corresponds to the second column, and so on. You can use either matrices, lists of lists or just a normal list.\n",
    "\n",
    "Since this method is static you can either just make a temporary block and move the elements around as described or you can loop over each row and perform the shift depending on the current row number.\n",
    "\n",
    "Create the following two methods: One called shiftRows(block) and one called shiftRowsInv(block). These methods are extremely similar but the reverse shift just moves elements to the right instead of left."
   ]
  },
  {
   "cell_type": "code",
   "execution_count": 2815,
   "metadata": {},
   "outputs": [],
   "source": [
    "def shiftRows(block):\n",
    "    temp = block[1]\n",
    "    block[1] = block[5]\n",
    "    block[5] = block[9]\n",
    "    block[9] = block[13]\n",
    "    block[13] = temp\n",
    "    \n",
    "    temp = block[2]\n",
    "    block[2] = block[10]\n",
    "    block[10] = temp\n",
    "    temp = block[6]\n",
    "    block[6] = block[14] \n",
    "    block[14] = temp\n",
    "    \n",
    "    temp = block[3]\n",
    "    block[3] = block[15]\n",
    "    block[15] = block[11]\n",
    "    block[11] = block[7]\n",
    "    block[7] = temp\n",
    "    \n",
    "    return block\n",
    "    "
   ]
  },
  {
   "cell_type": "code",
   "execution_count": 2816,
   "metadata": {},
   "outputs": [],
   "source": [
    "def shiftRowsInv(block):\n",
    "    temp = block[13]\n",
    "    block[13] = block[9]\n",
    "    block[9] = block[5]\n",
    "    block[5] = block[1]\n",
    "    block[1] = temp\n",
    "\n",
    "    temp = block[14]\n",
    "    block[14] = block[6]\n",
    "    block[6] = temp\n",
    "    temp = block[2]\n",
    "    block[2] = block[10]\n",
    "    block[10] = temp\n",
    "    \n",
    "    temp = block[15]\n",
    "    block[15] = block[3]\n",
    "    block[3] = block[7]\n",
    "    block[7] = block[11]\n",
    "    block[11] = temp\n",
    "\n",
    "    return block"
   ]
  },
  {
   "cell_type": "code",
   "execution_count": 2817,
   "metadata": {},
   "outputs": [
    {
     "name": "stdout",
     "output_type": "stream",
     "text": [
      "[0, 85, 170, 255, 68, 153, 238, 51, 136, 221, 34, 119, 204, 17, 102, 187]\n"
     ]
    }
   ],
   "source": [
    "#Test the shiftRows() using this code\n",
    "\n",
    "block = getBlock(\"testBlock\")\n",
    "\n",
    "shiftedBlock = shiftRows(block)\n",
    "\n",
    "print(shiftedBlock)"
   ]
  },
  {
   "cell_type": "markdown",
   "metadata": {},
   "source": [
    "**Output:**\n",
    "\n",
    "[0, 85, 170, 255, 68, 153, 238, 51, 136, 221, 34, 119, 204, 17, 102, 187]"
   ]
  },
  {
   "cell_type": "code",
   "execution_count": 2818,
   "metadata": {},
   "outputs": [
    {
     "name": "stdout",
     "output_type": "stream",
     "text": [
      "[0, 17, 34, 51, 68, 85, 102, 119, 136, 153, 170, 187, 204, 221, 238, 255]\n"
     ]
    }
   ],
   "source": [
    "#Test the shiftRowsInv() using this Code:\n",
    "\n",
    "block = getBlock(\"testBlock\")\n",
    "\n",
    "shiftedBlock = shiftRows(block)\n",
    "\n",
    "unShiftedBlock = shiftRowsInv(shiftedBlock)\n",
    "\n",
    "print(unShiftedBlock)"
   ]
  },
  {
   "cell_type": "markdown",
   "metadata": {},
   "source": [
    "**Output:**\n",
    "\n",
    "[0, 17, 34, 51, 68, 85, 102, 119, 136, 153, 170, 187, 204, 221, 238, 255]"
   ]
  },
  {
   "cell_type": "markdown",
   "metadata": {},
   "source": [
    "# 2. mixColumn()"
   ]
  },
  {
   "cell_type": "markdown",
   "metadata": {},
   "source": [
    "The mix of columns is a shuffle of each individual column in the block. This shuffling happens in a deterministic way depending on the values within the column. For consultation of the exact way of doing this, see the following Wikipedia article: https://en.wikipedia.org/wiki/Rijndael_mix_columns#MixColumns\n",
    "\n",
    "You can either implement Galois multiplication and perform the mix directly. Or you use the pre-calculated lists found in the article. To do AES mixing of columns one only needs to multiply elements with 1, 2 or 3. And for the un-mixing 9, 11, 13 or 14.\n",
    "\n",
    "**Create method mixColumn() as follows:**\n",
    "\n",
    "This method should take one column perform the multiplications in accordance to the multiplication tables. Refer to the Wikipedia article.\n",
    "\n",
    "Input: column\n",
    "\n",
    "Output: column\n",
    "\n",
    "Remember that in this context + means XOR. In Python, the hat-symbol (caret), ˆ, is used for XOR.\n",
    "\n",
    "Also create the inverse method mixColumnInv()."
   ]
  },
  {
   "cell_type": "code",
   "execution_count": 2819,
   "metadata": {},
   "outputs": [],
   "source": [
    "def mixColumn(column):\n",
    "    # a, b and d all come from the wikipage for simplicity.\n",
    "    a = column\n",
    "    b = [2,1,1,3,3,2,1,1,1,3,2,1,1,1,3,2]\n",
    "    d = [0,0,0,0]\n",
    "\n",
    "    # this follows the formula set out on the wikipage\n",
    "    d[0] = calculate(a[0] , b[0]) ^ calculate(a[1] , b[4]) ^ calculate(a[2] , b[8]) ^ calculate(a[3] , b[12])\n",
    "    d[1] = calculate(a[0] , b[1]) ^ calculate(a[1] , b[5]) ^ calculate(a[2] , b[9]) ^ calculate(a[3] , b[13])\n",
    "    d[2] = calculate(a[0] , b[2]) ^ calculate(a[1] , b[6]) ^ calculate(a[2] , b[10]) ^ calculate(a[3] , b[14])\n",
    "    d[3] = calculate(a[0] , b[3]) ^ calculate(a[1] , b[7]) ^ calculate(a[2] , b[11]) ^ calculate(a[3] , b[15])\n",
    "\n",
    "    return d\n",
    "\n",
    "\n",
    "# I took this part from the slides, this is now multiplication in GF(2^8)\n",
    "def calculate(x, y):\n",
    "    if y == 1: # anything that you multiply by 1 is simply itself.\n",
    "        return x\n",
    "    shifted_x = (x << 1) & 0xff # if we're multiplying with something other than 1 then we want to shift it to the left by 1, as stated in the slides. the & 0xff part makes sure the bit values above the first 8 bits are ignored.\n",
    "    if y == 2:\n",
    "        if x < 128: # checks if the high bit is equal to 0 or 1. any value over 128 will mean that the high bit value is 1, and any value under 128 will mean that the high value is 0\n",
    "            return shifted_x\n",
    "        else:\n",
    "            return shifted_x ^ 0x1b\n",
    "    if y == 3:\n",
    "        return calculate(x, 2) ^ x # as stated in the slides, multiplication done by 3 is actually just multiplication done by 2 XOR'd by the value a"
   ]
  },
  {
   "cell_type": "code",
   "execution_count": 2820,
   "metadata": {},
   "outputs": [],
   "source": [
    "def mixColumnInv(column): # this part is pretty much the same as mixColumn so I will skip over this part\n",
    "    d = column\n",
    "    a = [14,9,13,11,11,14,9,13,13,11,14,9,9,13,11,14]\n",
    "    b = [0,0,0,0]\n",
    " \n",
    "    b[0] = calculateInv(d[0] , a[0]) ^ calculateInv(d[1] , a[4]) ^ calculateInv(d[2] , a[8]) ^ calculateInv(d[3] , a[12])\n",
    "    b[1] = calculateInv(d[0] , a[1]) ^ calculateInv(d[1] , a[5]) ^ calculateInv(d[2] , a[9]) ^ calculateInv(d[3] , a[13])\n",
    "    b[2] = calculateInv(d[0] , a[2]) ^ calculateInv(d[1] , a[6]) ^ calculateInv(d[2] , a[10]) ^ calculateInv(d[3] , a[14])\n",
    "    b[3] = calculateInv(d[0] , a[3]) ^ calculateInv(d[1] , a[7]) ^ calculateInv(d[2] , a[11]) ^ calculateInv(d[3] , a[15])\n",
    "\n",
    "    return b\n",
    "\n",
    "\n",
    "# Since calculate is multiplication in GF(2^8) I use the calculate function in calculateInv to get to the values of y\n",
    "def calculateInv(x,y):\n",
    "    if y == 9: # (2*2*2)+1 = 9\n",
    "        return calculate(calculate(calculate(x,2),2),2) ^ x # to get 9 I first took cal(cal(x,2),2),2) whuich is then the same as (2*2)*2 = 8 then the 8 ^ x = 9\n",
    "    if y == 11: # (2*2*2)+2+1 = 11\n",
    "        return calculate(calculate(calculate(x,2),2),2) ^ calculate(x,2) ^ x \n",
    "    if y == 13: # (2*2*2)+(2*2)+1 = 13\n",
    "        return calculate(calculate(calculate(x,2),2),2) ^ calculate(calculate(x,2),2) ^ x\n",
    "    if y == 14: # (2*2*2)+(2*2)+2 = 14\n",
    "        return calculate(calculate(calculate(x,2),2),2) ^ calculate(calculate(x,2),2) ^ calculate(x,2)"
   ]
  },
  {
   "cell_type": "markdown",
   "metadata": {},
   "source": [
    "Next create method mixColumns() that calls the mixColumn(col) for each column in your block and then returns the mixed block."
   ]
  },
  {
   "cell_type": "code",
   "execution_count": 2821,
   "metadata": {},
   "outputs": [],
   "source": [
    "def mixColumns(block):\n",
    "    newBlock = []\n",
    "\n",
    "    for i in range(4):\n",
    "        currentColumn = []\n",
    "        currentColumn.append(block[i*4])\n",
    "        currentColumn.append(block[i*4+1])\n",
    "        currentColumn.append(block[i*4+2])\n",
    "        currentColumn.append(block[i*4+3])\n",
    "\n",
    "        d = mixColumn(currentColumn)\n",
    "        for i in d:\n",
    "            newBlock.append(i)\n",
    "\n",
    "        \n",
    "    return newBlock"
   ]
  },
  {
   "cell_type": "markdown",
   "metadata": {},
   "source": [
    "The corresponding inverse function should simply call the mixColumnInv() method for each column in your block and then return the mixed block."
   ]
  },
  {
   "cell_type": "code",
   "execution_count": 2822,
   "metadata": {},
   "outputs": [],
   "source": [
    "\n",
    "def mixColumnsInv(block):\n",
    "    newBlock = []\n",
    "\n",
    "    for i in range(4):\n",
    "        currentColumn = []\n",
    "        currentColumn.append(block[i*4])\n",
    "        currentColumn.append(block[(i*4)+1])\n",
    "        currentColumn.append(block[(i*4)+2])\n",
    "        currentColumn.append(block[(i*4)+3])\n",
    "\n",
    "        d = mixColumnInv(currentColumn)\n",
    "        for i in d:\n",
    "            newBlock.append(i)\n",
    "            \n",
    "    return newBlock"
   ]
  },
  {
   "cell_type": "markdown",
   "metadata": {},
   "source": [
    "Use the following code to test your methods"
   ]
  },
  {
   "cell_type": "code",
   "execution_count": 2823,
   "metadata": {},
   "outputs": [
    {
     "name": "stdout",
     "output_type": "stream",
     "text": [
      "[0, 17, 34, 51, 68, 85, 102, 119, 136, 153, 170, 187, 204, 221, 238, 255]\n",
      "[34, 119, 0, 85, 102, 51, 68, 17, 170, 255, 136, 221, 238, 187, 204, 153]\n",
      "[0, 17, 34, 51, 68, 85, 102, 119, 136, 153, 170, 187, 204, 221, 238, 255]\n"
     ]
    }
   ],
   "source": [
    "testBlock = getBlock(\"testBlock\")\n",
    "\n",
    "print(testBlock)\n",
    "\n",
    "mixedBlock = mixColumns(testBlock)\n",
    "\n",
    "print(mixedBlock)\n",
    "\n",
    "unMixedBlock = mixColumnsInv(mixedBlock)\n",
    "\n",
    "print(unMixedBlock)"
   ]
  },
  {
   "cell_type": "markdown",
   "metadata": {},
   "source": [
    "**Output:**\n",
    "\n",
    "[0, 17, 34, 51, 68, 85, 102, 119, 136, 153, 170, 187, 204, 221, 238, 255]\n",
    "    \n",
    "[34, 119, 0, 85, 102, 51, 68, 17, 170, 255, 136, 221, 238, 187, 204, 153]\n",
    "    \n",
    "[0, 17, 34, 51, 68, 85, 102, 119, 136, 153, 170, 187, 204, 221, 238, 255]\n"
   ]
  },
  {
   "cell_type": "markdown",
   "metadata": {},
   "source": [
    "# 3. subBytes"
   ]
  },
  {
   "cell_type": "markdown",
   "metadata": {},
   "source": [
    "Create method subBytes() and apply the sBox to each element in the block and return it."
   ]
  },
  {
   "cell_type": "code",
   "execution_count": 2824,
   "metadata": {},
   "outputs": [],
   "source": [
    "def subBytes(block):\n",
    "    for i in range(len(block)):\n",
    "        block[i] = sbox[block[i]]\n",
    "    return block"
   ]
  },
  {
   "cell_type": "markdown",
   "metadata": {},
   "source": [
    "Create method subBytesInv() and apply sBoxInv() to each element in the block. And return it."
   ]
  },
  {
   "cell_type": "code",
   "execution_count": 2825,
   "metadata": {},
   "outputs": [],
   "source": [
    "def subBytesInv(block):\n",
    "    for i in range(len(block)):\n",
    "        block[i] = sboxInv[block[i]]\n",
    "    return block"
   ]
  },
  {
   "cell_type": "markdown",
   "metadata": {},
   "source": [
    "Use the follwing code to test your methods:"
   ]
  },
  {
   "cell_type": "code",
   "execution_count": 2826,
   "metadata": {},
   "outputs": [
    {
     "name": "stdout",
     "output_type": "stream",
     "text": [
      "[0, 17, 34, 51, 68, 85, 102, 119, 136, 153, 170, 187, 204, 221, 238, 255]\n",
      "[99, 130, 147, 195, 27, 252, 51, 245, 196, 238, 172, 234, 75, 193, 40, 22]\n",
      "[0, 17, 34, 51, 68, 85, 102, 119, 136, 153, 170, 187, 204, 221, 238, 255]\n"
     ]
    }
   ],
   "source": [
    "testBlock = getBlock(\"testBlock\")\n",
    "\n",
    "print(testBlock)\n",
    "\n",
    "substitutedBlock = subBytes(testBlock)\n",
    "\n",
    "print(substitutedBlock)\n",
    "\n",
    "unSubstitutedBlock = subBytesInv(substitutedBlock)\n",
    "\n",
    "print(unSubstitutedBlock)"
   ]
  },
  {
   "cell_type": "markdown",
   "metadata": {},
   "source": [
    "**Output:**\n",
    "    \n",
    "[0, 17, 34, 51, 68, 85, 102, 119, 136, 153, 170, 187, 204, 221, 238, 255]\n",
    "\n",
    "[99, 130, 147, 195, 27, 252, 51, 245, 196, 238, 172, 234, 75, 193, 40, 22]\n",
    "\n",
    "[0, 17, 34, 51, 68, 85, 102, 119, 136, 153, 170, 187, 204, 221, 238, 255]"
   ]
  },
  {
   "cell_type": "markdown",
   "metadata": {},
   "source": [
    "# Cryptography Lab 3"
   ]
  },
  {
   "cell_type": "markdown",
   "metadata": {},
   "source": [
    "# 1. keyScheduleCore()"
   ]
  },
  {
   "cell_type": "markdown",
   "metadata": {},
   "source": [
    "Read about this method in https://en.wikipedia.org/wiki/Rijndael_key_schedule#Key_schedule_core <br>\n",
    "or in NIST document paragraph 5.2 (Key Expansion)<br>\n",
    "**Input:** 4 byte word and Iteration Number\n",
    "\n",
    "**Output:** 4 byte word"
   ]
  },
  {
   "cell_type": "markdown",
   "metadata": {},
   "source": [
    "Explain what you do and why here in this cell (in English): The 2 first steps according to the wikipedia link says that you should do a left circular shift so the first for loop is shifting it all to the left and then setting the last value to what used to be the first. The second step is to use the apply the sbox to the \"word\", which is shown in the second loop. Then finally we xor the round constant (rcon) to add asymmetry, this makes it more secure. \n"
   ]
  },
  {
   "cell_type": "code",
   "execution_count": 2827,
   "metadata": {},
   "outputs": [],
   "source": [
    "def keyScheduleCore(word, iterate):\n",
    "    \n",
    "    # added simple comments to assist with the explanation above\n",
    "    \n",
    "    # first loop used to do a left circular shift\n",
    "\n",
    "    word = rotWord(word)\n",
    "    \n",
    "    # second loop is to apply the sbox\n",
    "\n",
    "    word = subBytes(word)\n",
    "        \n",
    "    \n",
    "    # adding asymmetry using round constants\n",
    "    word[0] ^= rcon[iterate]\n",
    "    \n",
    "    return word\n",
    "\n",
    "\n",
    "# originally I included it n the keyschedulecore function but after realizing I had to reuse the rotword as detailed in the wikipage I decided to come back and make a separate function\n",
    "def rotWord(word):\n",
    "    temp = word[0]\n",
    "    for i in range(3):\n",
    "        word[i] = word[i+1]\n",
    "    word[3] = temp    \n",
    "    \n",
    "    return word\n"
   ]
  },
  {
   "cell_type": "code",
   "execution_count": 2828,
   "metadata": {},
   "outputs": [
    {
     "name": "stdout",
     "output_type": "stream",
     "text": [
      "[1, 2, 3, 4]\n",
      "[118, 123, 242, 124]\n"
     ]
    }
   ],
   "source": [
    "#Test your code\n",
    "word = [1,2,3,4]\n",
    "\n",
    "\n",
    "print(word)\n",
    "\n",
    "newWord = keyScheduleCore(word,1)\n",
    "\n",
    "\n",
    "print(newWord)"
   ]
  },
  {
   "cell_type": "markdown",
   "metadata": {},
   "source": [
    "**Output:**\n",
    "\n",
    "    [1, 2, 3, 4]\n",
    "\n",
    "    [118, 123, 242, 124]"
   ]
  },
  {
   "cell_type": "markdown",
   "metadata": {},
   "source": [
    "# 2. expandKey()"
   ]
  },
  {
   "cell_type": "markdown",
   "metadata": {},
   "source": [
    "AES-operations are performed on blocks multiple times, in so-called rounds. Each round uses a specific round key. The round keys are created from the original key via an extension. The original key is 256 bit (32 bytes) but needs to be expanded to a 240 byte key. This extension is done using Rijndael key schedule, see https://en.wikipedia.org/wiki/Rijndael_key_schedule#Key_schedule_description. <br>\n",
    "Follow the algorithmic description in the Wikipedia page and create a method called expandKey()."
   ]
  },
  {
   "cell_type": "markdown",
   "metadata": {},
   "source": [
    "**Method name:** expandKey(key)\n",
    "\n",
    "**Input:** 256 bit key\n",
    "\n",
    "**Output:** extended 240 byte key"
   ]
  },
  {
   "cell_type": "markdown",
   "metadata": {},
   "source": [
    "Explain what you do and why here in this cell (in English): First the key is divided up into the 4 byte words, every word therefore is composed of 4 separate bytes where every number is a byte. We then loop over and here I used the \"NIST FIPS\" document linked in the courseroom. Based on some research done online and in combination with the document I have created the next step, first we set it so that word is set to the previous word. We then have if and elif where we check for 1. if the length of the list w (list with all the words) is divisible by NK (the amount of words in the key at first) , if it is we do a left circular shift and then apply the sbox. The first element is then XOR'd by the round constant, which again is for security reasons to protect against slide attacks. 2. else if the length of the list w modulo Nk produces the rest 4 then we only apply the sbox.\n",
    "\n",
    "After that we XOR every element in the previous word and then word -NK which is the Nk'th word away, as detaield in the chapter 5.2 text and the in the figure 11. After every word is done, for simpler code I decided to use lists within lists and the output does not expect that so there is an if loop where the lists inside of the list are removed so it's only integers in the list."
   ]
  },
  {
   "cell_type": "code",
   "execution_count": 2829,
   "metadata": {},
   "outputs": [],
   "source": [
    "# the whole code was partially inspirsed by this code https://github.com/boppreh/aes/blob/master/aes.py\n",
    "\n",
    "def expandKey(key):\n",
    "    Nr = 14 # got these from NIST FIPS document in the course room\n",
    "    Nk = 8\n",
    "    \n",
    "    w = []  \n",
    "    j = 0  \n",
    "    \n",
    "    while (j < Nk):\n",
    "        w.append(0)\n",
    "        w[j] = [key[4*j], key[4*j+1], key[4*j+2], key[4*j+3]]\n",
    "        j += 1\n",
    "\n",
    "    i = 1\n",
    "\n",
    "    while len(w) < (Nr + 1) * 4:\n",
    "            word = list(w[-1]) # previous word\n",
    "            if len(w) % Nk == 0: # checks if the number of words is divisble by Nk             \n",
    "                word = keyScheduleCore( word, i) # apply what is in the keyschedulecore\n",
    "                i += 1\n",
    "            elif len(w) % Nk == 4: # check if the number of words is divisble by Nk\n",
    "                word = subBytes(word) # left cicular shift\n",
    "\n",
    "            word = list(i^j for i, j in zip(word, w[-Nk])) # xor the previous word and the the -Nkth word\n",
    "\n",
    "            w.append(word)\n",
    "    \n",
    "    expandedKey = []\n",
    "    \n",
    "    # removing the lists within lists\n",
    "    for i in w: \n",
    "        for j in i:\n",
    "            expandedKey.append(j)\n",
    "\n",
    "    return expandedKey"
   ]
  },
  {
   "cell_type": "code",
   "execution_count": 2830,
   "metadata": {},
   "outputs": [
    {
     "name": "stdout",
     "output_type": "stream",
     "text": [
      "[0, 1, 2, 3, 4, 5, 6, 7, 8, 9, 10, 11, 12, 13, 14, 15, 16, 17, 18, 19, 20, 21, 22, 23, 24, 25, 26, 27, 28, 29, 30, 31]\n",
      "[0, 1, 2, 3, 4, 5, 6, 7, 8, 9, 10, 11, 12, 13, 14, 15, 16, 17, 18, 19, 20, 21, 22, 23, 24, 25, 26, 27, 28, 29, 30, 31, 165, 115, 194, 159, 161, 118, 196, 152, 169, 127, 206, 147, 165, 114, 192, 156, 22, 81, 168, 205, 2, 68, 190, 218, 26, 93, 164, 193, 6, 64, 186, 222, 174, 135, 223, 240, 15, 241, 27, 104, 166, 142, 213, 251, 3, 252, 21, 103, 109, 225, 241, 72, 111, 165, 79, 146, 117, 248, 235, 83, 115, 184, 81, 141, 198, 86, 130, 127, 201, 167, 153, 23, 111, 41, 76, 236, 108, 213, 89, 139, 61, 226, 58, 117, 82, 71, 117, 231, 39, 191, 158, 180, 84, 7, 207, 57, 11, 220, 144, 95, 194, 123, 9, 72, 173, 82, 69, 164, 193, 135, 28, 47, 69, 245, 166, 96, 23, 178, 211, 135, 48, 13, 77, 51, 100, 10, 130, 10, 124, 207, 247, 28, 190, 180, 254, 84, 19, 230, 187, 240, 210, 97, 167, 223, 240, 26, 250, 254, 231, 168, 41, 121, 215, 165, 100, 74, 179, 175, 230, 64, 37, 65, 254, 113, 155, 245, 0, 37, 136, 19, 187, 213, 90, 114, 28, 10, 78, 90, 102, 153, 169, 242, 79, 224, 126, 87, 43, 170, 205, 248, 205, 234, 36, 252, 121, 204, 191, 9, 121, 233, 55, 26, 194, 60, 109, 104, 222, 54]\n"
     ]
    }
   ],
   "source": [
    "key = getKey(\"testKey\")\n",
    "\n",
    "print(key)\n",
    "\n",
    "expandedKey = expandKey(key)\n",
    "\n",
    "print(expandedKey)"
   ]
  },
  {
   "cell_type": "markdown",
   "metadata": {},
   "source": [
    "**Output:**\n",
    "\n",
    "[0, 1, 2, 3, 4, 5, 6, 7, 8, 9, 10, 11, 12, 13, 14, 15, 16, 17, 18, 19, 20, 21, 22, 23, 24, 25, 26, 27, 28, 29, 30, 31]\n",
    "\n",
    "[0, 1, 2, 3, 4, 5, 6, 7, 8, 9, 10, 11, 12, 13, 14, 15, 16, 17, 18, 19, 20, 21, 22, 23, 24, 25, 26, 27, 28, 29, 30, 31, 165, 115, 194, 159, 161, 118, 196, 152, 169, 127, 206, 147, 165, 114, 192, 156, 22, 81, 168, 205, 2, 68, 190, 218, 26, 93, 164, 193, 6, 64, 186, 222, 174, 135, 223, 240, 15, 241, 27, 104, 166, 142, 213, 251, 3, 252, 21, 103, 109, 225, 241, 72, 111, 165, 79, 146, 117, 248, 235, 83, 115, 184, 81, 141, 198, 86, 130, 127, 201, 167, 153, 23, 111, 41, 76, 236, 108, 213, 89, 139, 61, 226, 58, 117, 82, 71, 117, 231, 39, 191, 158, 180, 84, 7, 207, 57, 11, 220, 144, 95, 194, 123, 9, 72, 173, 82, 69, 164, 193, 135, 28, 47, 69, 245, 166, 96, 23, 178, 211, 135, 48, 13, 77, 51, 100, 10, 130, 10, 124, 207, 247, 28, 190, 180, 254, 84, 19, 230, 187, 240, 210, 97, 167, 223, 240, 26, 250, 254, 231, 168, 41, 121, 215, 165, 100, 74, 179, 175, 230, 64, 37, 65, 254, 113, 155, 245, 0, 37, 136, 19, 187, 213, 90, 114, 28, 10, 78, 90, 102, 153, 169, 242, 79, 224, 126, 87, 43, 170, 205, 248, 205, 234, 36, 252, 121, 204, 191, 9, 121, 233, 55, 26, 194, 60, 109, 104, 222, 54]"
   ]
  },
  {
   "cell_type": "markdown",
   "metadata": {},
   "source": [
    "# 3. createRoundKey()"
   ]
  },
  {
   "cell_type": "markdown",
   "metadata": {},
   "source": [
    "Method createRoundKey() samples the expanded key. In total there are 14 rounds in AES-256, and 14 round keys need to be extracted from the expanded key."
   ]
  },
  {
   "cell_type": "markdown",
   "metadata": {},
   "source": [
    "**Method:** createRoundKey(expandedKey, n)\n",
    "\n",
    "**Input:** expandedKey (240 bytes) and round number n\n",
    "\n",
    "**Output:** roundKey (16 bytes)"
   ]
  },
  {
   "cell_type": "markdown",
   "metadata": {},
   "source": [
    "Explain what you do and why here in this cell (in English): I could not find much documentation anywhere but it was surprisingly simple when I understood what to do, so what we really are trying to do is simply take out the words from each round. That is then the round key, first I declare a list since I find it easier than working with an empty list. I then loop through every part of of expandedKey and take out the 16 elements of every round and add it to the roundKey list. There are a total of 14 round, + 1 for the round 0 which is the original key. If n = 0 and i = 0 n*16+i will equal 0 and if n = 0 and i = 1 then n*16+i will equal 1 and if n = 1 and i = 0 then n*16+i will equal 16. It's quite a simple loop."
   ]
  },
  {
   "cell_type": "code",
   "execution_count": 2831,
   "metadata": {},
   "outputs": [],
   "source": [
    "def createRoundKey(expandedKey, n):\n",
    "    roundKey = [0,0,0,0,0,0,0,0,0,0,0,0,0,0,0,0]\n",
    "\n",
    "    for i in range(len(roundKey)):\n",
    "        roundKey[i] = expandedKey[n*16+i]\n",
    "\n",
    "    return roundKey"
   ]
  },
  {
   "cell_type": "code",
   "execution_count": 2832,
   "metadata": {},
   "outputs": [
    {
     "name": "stdout",
     "output_type": "stream",
     "text": [
      "[0, 1, 2, 3, 4, 5, 6, 7, 8, 9, 10, 11, 12, 13, 14, 15, 16, 17, 18, 19, 20, 21, 22, 23, 24, 25, 26, 27, 28, 29, 30, 31, 165, 115, 194, 159, 161, 118, 196, 152, 169, 127, 206, 147, 165, 114, 192, 156, 22, 81, 168, 205, 2, 68, 190, 218, 26, 93, 164, 193, 6, 64, 186, 222, 174, 135, 223, 240, 15, 241, 27, 104, 166, 142, 213, 251, 3, 252, 21, 103, 109, 225, 241, 72, 111, 165, 79, 146, 117, 248, 235, 83, 115, 184, 81, 141, 198, 86, 130, 127, 201, 167, 153, 23, 111, 41, 76, 236, 108, 213, 89, 139, 61, 226, 58, 117, 82, 71, 117, 231, 39, 191, 158, 180, 84, 7, 207, 57, 11, 220, 144, 95, 194, 123, 9, 72, 173, 82, 69, 164, 193, 135, 28, 47, 69, 245, 166, 96, 23, 178, 211, 135, 48, 13, 77, 51, 100, 10, 130, 10, 124, 207, 247, 28, 190, 180, 254, 84, 19, 230, 187, 240, 210, 97, 167, 223, 240, 26, 250, 254, 231, 168, 41, 121, 215, 165, 100, 74, 179, 175, 230, 64, 37, 65, 254, 113, 155, 245, 0, 37, 136, 19, 187, 213, 90, 114, 28, 10, 78, 90, 102, 153, 169, 242, 79, 224, 126, 87, 43, 170, 205, 248, 205, 234, 36, 252, 121, 204, 191, 9, 121, 233, 55, 26, 194, 60, 109, 104, 222, 54]\n",
      "[0, 1, 2, 3, 4, 5, 6, 7, 8, 9, 10, 11, 12, 13, 14, 15]\n",
      "[61, 226, 58, 117, 82, 71, 117, 231, 39, 191, 158, 180, 84, 7, 207, 57]\n",
      "[36, 252, 121, 204, 191, 9, 121, 233, 55, 26, 194, 60, 109, 104, 222, 54]\n"
     ]
    }
   ],
   "source": [
    "key = getKey(\"testKey\")\n",
    "expandedKey = expandKey(key)\n",
    "roundKey0 = createRoundKey(expandedKey,0)\n",
    "roundKey7 = createRoundKey(expandedKey,7)\n",
    "roundKey14 = createRoundKey(expandedKey,14)\n",
    "print(expandedKey)\n",
    "print(roundKey0)\n",
    "print(roundKey7)\n",
    "print(roundKey14)"
   ]
  },
  {
   "cell_type": "markdown",
   "metadata": {},
   "source": [
    "**Output:**\n",
    "\n",
    "[0, 1, 2, 3, 4, 5, 6, 7, 8, 9, 10, 11, 12, 13, 14, 15, 16, 17, 18, 19, 20, 21, 22, 23, 24, 25, 26, 27, 28, 29, 30, 31, 165, 115, 194, 159, 161, 118, 196, 152, 169, 127, 206, 147, 165, 114, 192, 156, 22, 81, 168, 205, 2, 68, 190, 218, 26, 93, 164, 193, 6, 64, 186, 222, 174, 135, 223, 240, 15, 241, 27, 104, 166, 142, 213, 251, 3, 252, 21, 103, 109, 225, 241, 72, 111, 165, 79, 146, 117, 248, 235, 83, 115, 184, 81, 141, 198, 86, 130, 127, 201, 167, 153, 23, 111, 41, 76, 236, 108, 213, 89, 139, 61, 226, 58, 117, 82, 71, 117, 231, 39, 191, 158, 180, 84, 7, 207, 57, 11, 220, 144, 95, 194, 123, 9, 72, 173, 82, 69, 164, 193, 135, 28, 47, 69, 245, 166, 96, 23, 178, 211, 135, 48, 13, 77, 51, 100, 10, 130, 10, 124, 207, 247, 28, 190, 180, 254, 84, 19, 230, 187, 240, 210, 97, 167, 223, 240, 26, 250, 254, 231, 168, 41, 121, 215, 165, 100, 74, 179, 175, 230, 64, 37, 65, 254, 113, 155, 245, 0, 37, 136, 19, 187, 213, 90, 114, 28, 10, 78, 90, 102, 153, 169, 242, 79, 224, 126, 87, 43, 170, 205, 248, 205, 234, 36, 252, 121, 204, 191, 9, 121, 233, 55, 26, 194, 60, 109, 104, 222, 54]\n",
    "\n",
    "[0, 1, 2, 3, 4, 5, 6, 7, 8, 9, 10, 11, 12, 13, 14, 15]\n",
    "\n",
    "[61, 226, 58, 117, 82, 71, 117, 231, 39, 191, 158, 180, 84, 7, 207, 57]\n",
    "\n",
    "[36, 252, 121, 204, 191, 9, 121, 233, 55, 26, 194, 60, 109, 104, 222, 54]\n"
   ]
  },
  {
   "cell_type": "markdown",
   "metadata": {},
   "source": [
    "# 4. addRoundKey()"
   ]
  },
  {
   "cell_type": "markdown",
   "metadata": {},
   "source": [
    "addRoundKey() XORs each element of a roundkey with a block. <br>See: https://en.wikipedia.org/wiki/Advanced_Encryption_Standard#The_AddRoundKey_step"
   ]
  },
  {
   "cell_type": "markdown",
   "metadata": {},
   "source": [
    "**Method:** addRoundKey(block,roundKey)\n",
    "\n",
    "**Input:** block (16 bytes) and roundKey (16 bytes)\n",
    "\n",
    "**Output:** block (16 bytes)"
   ]
  },
  {
   "cell_type": "markdown",
   "metadata": {},
   "source": [
    "Explain what you do and why here in this cell (in English): Each element in the block should be XOR'd with corresponding element in the roundKey, again the code is quite simple. \n"
   ]
  },
  {
   "cell_type": "code",
   "execution_count": 2833,
   "metadata": {},
   "outputs": [],
   "source": [
    "def addRoundKey(block,roundKey):\n",
    "    for i in range(len(block)):\n",
    "        block[i] = block[i] ^ roundKey[i]\n",
    "    \n",
    "    return block"
   ]
  },
  {
   "cell_type": "code",
   "execution_count": 2834,
   "metadata": {},
   "outputs": [
    {
     "name": "stdout",
     "output_type": "stream",
     "text": [
      "[0, 16, 32, 48, 64, 80, 96, 112, 128, 144, 160, 176, 192, 208, 224, 240]\n"
     ]
    }
   ],
   "source": [
    "key = getKey(\"testKey\")\n",
    "testBlock = getBlock(\"testBlock\")\n",
    "expandedKey = expandKey(key)\n",
    "roundKey0 = createRoundKey(expandedKey,0)\n",
    "addedRoundKeyToBlock = addRoundKey(testBlock,roundKey0)\n",
    "print(addedRoundKeyToBlock)\n"
   ]
  },
  {
   "cell_type": "markdown",
   "metadata": {},
   "source": [
    "**Output:**\n",
    "\n",
    "[0, 16, 32, 48, 64, 80, 96, 112, 128, 144, 160, 176, 192, 208, 224, 240]"
   ]
  },
  {
   "cell_type": "markdown",
   "metadata": {},
   "source": [
    "# Cryptography Lab 4, 5, and 6"
   ]
  },
  {
   "cell_type": "markdown",
   "metadata": {},
   "source": [
    "A large text file tWotW.txt is now available on Learn. Your task in Lab 6 is to read this file,Split it into blocks, Encrypt the blocks, and produce an encrypted version of the file. Then, read the encrypted file block by block and decrypt it. Upload the encrypted version of tWOW.txt to Learn, as well. <br>Labs 1-6 must be merged in one JNB file and that file must be compressed with the corresponding .pdf file and encryptedtWOW.txt (the encrypted version of tWOW.txt), that is, your final submission includes three files compressed into one .rar or .zip file:\n",
    "\n",
    "1. AES labs 1-6 in one .ipynb file,\n",
    "2. the .ipynb file converted into .pdf, and\n",
    "3. encryptedtWOW.txt by you."
   ]
  },
  {
   "cell_type": "markdown",
   "metadata": {},
   "source": [
    "Add brief explanations regarding how you built each method, and why each method is needed (in English).\n",
    "\n",
    "Sometimes it is good to define helper methods in addition to the main methods before the actual methods. You may add helper methods before the main methods in the same Python cell."
   ]
  },
  {
   "cell_type": "markdown",
   "metadata": {},
   "source": [
    "# Lab 4 \n",
    "## Encryption\n",
    "\n",
    "By now all essential parts of AES has been implemented. What is left to do is to call all the methods in the correct order to encrypt a block. We are going to follow the description provided here:\n",
    "\n",
    "https://en.wikipedia.org/wiki/Advanced_Encryption_Standard#High-level_description_of_the_algorithm\n",
    "\n",
    "More specifically, the encryption method should perform the following steps:\n"
   ]
  },
  {
   "cell_type": "code",
   "execution_count": 2835,
   "metadata": {},
   "outputs": [],
   "source": [
    "# #**Initialize:**\n",
    "\n",
    "# expandKey(key)\n",
    "\n",
    "# #**0-th round:**\n",
    "\n",
    "# createRoundKey(expandedKey,0)\n",
    "# addRoundKey(block, roundKey)\n",
    "\n",
    "# #**1-st to 13:th round:**\n",
    "\n",
    "# createRoundKey(expandedKey,i)\n",
    "# subBytes(block)\n",
    "# shiftRows(block) \n",
    "# mixColumns(block)\n",
    "# addRoundKey(block, roundKey)\n",
    "\n",
    "# #**14:th round:**\n",
    "\n",
    "# createRoundKey(expandedKey,14)\n",
    "# subBytes(block)\n",
    "# shiftRows(block)\n",
    "# addRoundKey(block, roundKey)\n",
    "\n",
    "# #**Return:** block\n"
   ]
  },
  {
   "cell_type": "markdown",
   "metadata": {},
   "source": [
    "# encrypt(block, key)"
   ]
  },
  {
   "cell_type": "markdown",
   "metadata": {},
   "source": [
    "**Method name:** encrypt(blocks, key)\n",
    "\n",
    "**Input:** block and key\n",
    "\n",
    "**Output:** encrypted block"
   ]
  },
  {
   "cell_type": "markdown",
   "metadata": {},
   "source": [
    "Explain what you do and why here in this cell (in English): The key is first expanded, we \"create\" the roundkey by picking out the first words from the expanded key and then applying it to the block. Then we iterate from 1 - 13 and apply the same steps. First the i roundkey is \"created\", then we do a left circular shift of the block, then shift the rows, the mix the columns and finally apply the roundkey. Finally for the 14th round we \"create\" the 14th roundkey and we do the same as with 1 - 13 but we leave out the mix columns step. This is now encrypted.\n"
   ]
  },
  {
   "cell_type": "code",
   "execution_count": 2836,
   "metadata": {},
   "outputs": [],
   "source": [
    "def encrypt(block,key):\n",
    "    \n",
    "    expandedKey = expandKey(key)\n",
    "\n",
    "    roundKey = createRoundKey(expandedKey,0)\n",
    "    block = addRoundKey(block,roundKey)\n",
    "    \n",
    "    for i in range(13):\n",
    "        roundKey = createRoundKey(expandedKey,i +1)\n",
    "        block = subBytes(block)\n",
    "        block = shiftRows(block)\n",
    "        block = mixColumns(block)\n",
    "        block = addRoundKey(block, roundKey)\n",
    "         \n",
    "    roundKey = createRoundKey(expandedKey,14)\n",
    "    block = subBytes(block)\n",
    "    block = shiftRows(block)\n",
    "    block = addRoundKey(block,roundKey)\n",
    "\n",
    "    return block"
   ]
  },
  {
   "cell_type": "code",
   "execution_count": 2837,
   "metadata": {},
   "outputs": [
    {
     "name": "stdout",
     "output_type": "stream",
     "text": [
      "[0, 17, 34, 51, 68, 85, 102, 119, 136, 153, 170, 187, 204, 221, 238, 255]\n",
      "[142, 162, 183, 202, 81, 103, 69, 191, 234, 252, 73, 144, 75, 73, 96, 137]\n"
     ]
    }
   ],
   "source": [
    "key = getKey(\"testKey\")\n",
    "block = getBlock(\"testBlock\")\n",
    "print(block)\n",
    "encryptedBlock = encrypt(block,key)\n",
    "print(encryptedBlock)"
   ]
  },
  {
   "cell_type": "markdown",
   "metadata": {},
   "source": [
    "**Output:**\n",
    "\n",
    "    [0, 17, 34, 51, 68, 85, 102, 119, 136, 153, 170, 187, 204, 221, 238, 255]\n",
    "\n",
    "    [142, 162, 183, 202, 81, 103, 69, 191, 234, 252, 73, 144, 75, 73, 96, 137]"
   ]
  },
  {
   "cell_type": "markdown",
   "metadata": {},
   "source": [
    "# Lab 5\n",
    "\n",
    "## Decryption\n",
    "\n",
    "Again, see: https://en.wikipedia.org/wiki/Advanced_Encryption_Standard#High-level_description_of_the_algorithm\n"
   ]
  },
  {
   "cell_type": "markdown",
   "metadata": {},
   "source": [
    "## decrypt(block, key)"
   ]
  },
  {
   "cell_type": "markdown",
   "metadata": {},
   "source": [
    "**Input:** block and key\n",
    "\n",
    "**Output:** decrypted block\n"
   ]
  },
  {
   "cell_type": "code",
   "execution_count": 2838,
   "metadata": {},
   "outputs": [],
   "source": [
    "def decrypt(block,key):\n",
    "    expandedKey = expandKey(key)\n",
    "    \n",
    "    roundKey = createRoundKey(expandedKey,14)\n",
    "    block = addRoundKey(block, roundKey)\n",
    "    block = shiftRowsInv(block)\n",
    "    block = subBytesInv(block)\n",
    "    \n",
    "    for i in range(13,0,-1):\n",
    "        roundKey = createRoundKey(expandedKey, i)\n",
    "        block = addRoundKey(block,roundKey)\n",
    "        block = mixColumnsInv(block)\n",
    "        block = shiftRowsInv(block)\n",
    "        block = subBytesInv(block)\n",
    "        \n",
    "    roundKey = createRoundKey(expandedKey,0)\n",
    "    block = addRoundKey(block, roundKey)\n",
    "    \n",
    "    return block"
   ]
  },
  {
   "cell_type": "markdown",
   "metadata": {},
   "source": [
    "Explain what you do and why here in this cell (in English): To decrypt we essentially just do the same stuff but reversed, with both of these functions we can now encrypt and decrypt keys. The for loop is set up to go in reverse so instead of going 1,2,3,4,....,13 it goes 13,12,11,10,....,1. According to the description of the algorithm it seemed like this is how was supposed to be."
   ]
  },
  {
   "cell_type": "code",
   "execution_count": 2839,
   "metadata": {},
   "outputs": [
    {
     "name": "stdout",
     "output_type": "stream",
     "text": [
      "[0, 17, 34, 51, 68, 85, 102, 119, 136, 153, 170, 187, 204, 221, 238, 255]\n",
      "[142, 162, 183, 202, 81, 103, 69, 191, 234, 252, 73, 144, 75, 73, 96, 137]\n",
      "[0, 17, 34, 51, 68, 85, 102, 119, 136, 153, 170, 187, 204, 221, 238, 255]\n"
     ]
    }
   ],
   "source": [
    "key = getKey(\"testKey\")\n",
    "block = getBlock(\"testBlock\")\n",
    "print(block)\n",
    "encryptedBlock = encrypt(block,key)\n",
    "print(encryptedBlock)\n",
    "decryptedBlock = decrypt(encryptedBlock,key)\n",
    "print(decryptedBlock)"
   ]
  },
  {
   "cell_type": "markdown",
   "metadata": {},
   "source": [
    "**Output:**\n",
    "\n",
    "    [0, 17, 34, 51, 68, 85, 102, 119, 136, 153, 170, 187, 204, 221, 238, 255]\n",
    "\n",
    "    [142, 162, 183, 202, 81, 103, 69, 191, 234, 252, 73, 144, 75, 73, 96, 137]\n",
    "\n",
    "    [0, 17, 34, 51, 68, 85, 102, 119, 136, 153, 170, 187, 204, 221, 238, 255]"
   ]
  },
  {
   "cell_type": "markdown",
   "metadata": {},
   "source": [
    "More specifically, the decryption method should perform the following steps:"
   ]
  },
  {
   "cell_type": "code",
   "execution_count": 2840,
   "metadata": {},
   "outputs": [],
   "source": [
    "# #**Initialize:**\n",
    "\n",
    "# expandedKey(key)\n",
    "\n",
    "# #**14-th round:**\n",
    "\n",
    "# createRoundKey(expandedKey,14)\n",
    "# addRoundKey(block, roundKey)\n",
    "# shiftRowsInv(block)\n",
    "# subBytesInv(block)\n",
    "\n",
    "# #**13-th to 1:st round:**\n",
    "\n",
    "# createRoundKey(expandedKey,i)\n",
    "# addRoundKey(block, roundKey)\n",
    "# mixColumnsInv(block)\n",
    "# shiftRowsInv(block)\n",
    "# subBytesInv(block)\n",
    "\n",
    "# #**0:th round:**\n",
    "\n",
    "# createRoundKey(expandedKey,0)\n",
    "# addRoundKey(block, roundKey)\n",
    "\n",
    "# #**Return:** block"
   ]
  },
  {
   "cell_type": "markdown",
   "metadata": {},
   "source": [
    "## This is my code for encrypting and decrypting and writing to file"
   ]
  },
  {
   "cell_type": "code",
   "execution_count": 2841,
   "metadata": {},
   "outputs": [],
   "source": [
    "def encryptWotw(book,key):\n",
    "    encryptedBook = []\n",
    "\n",
    "    for i in range((len(book)//16)+ 1):\n",
    "        temp = [0,0,0,0,0,0,0,0,0,0,0,0,0,0,0,0]\n",
    "        for j in range(16):\n",
    "            try:\n",
    "                temp[j] = int(ord(book[16*i+j]))\n",
    "            except:\n",
    "                break\n",
    "        k = encrypt(temp, key)\n",
    "\n",
    "        encryptedBook.append(k)\n",
    "    \n",
    "    return encryptedBook\n",
    "\n",
    "\n",
    "def decryptWotw(key,fileName):\n",
    "    decryptedBook = []\n",
    "    w = open(fileName,'r',encoding=\"utf-8\")\n",
    "    w = w.read()\n",
    "    w = w.split(',')\n",
    "    \n",
    "    \n",
    "    for i in range((len(w)//16)):\n",
    "        temp = [0,0,0,0,0,0,0,0,0,0,0,0,0,0,0,0]\n",
    "        for j in range(16):\n",
    "            temp[j] = int(w[16*i+j])\n",
    "            \n",
    "        k = decrypt(temp, key)\n",
    "        decryptedBook.append(k)\n",
    "    \n",
    "    return decryptedBook\n",
    "\n",
    "\n",
    "def writeToFileEncrypted(bookList,fileName):\n",
    "    f = open(fileName, \"w\",encoding=\"utf-8\")\n",
    "    \n",
    "    cleanBook = []\n",
    "\n",
    "    for i in range(len(bookList)):\n",
    "        temp = [0,0,0,0,0,0,0,0,0,0,0,0,0,0,0,0]\n",
    "        for j in range(16):\n",
    "            temp[j] = bookList[i][j]\n",
    "            \n",
    "        for i in temp:\n",
    "            cleanBook.append(i)\n",
    "        \n",
    "    bookString = listToStringEncrypt(cleanBook)\n",
    "    \n",
    "    f.write(bookString)\n",
    "    \n",
    "def writeToFileDecrypted(bookList,fileName):\n",
    "    f = open(fileName, \"w\",encoding=\"utf-8\")\n",
    "    \n",
    "    cleanBook = []\n",
    "    \n",
    "    for i in range(len(bookList)):\n",
    "        temp = []\n",
    "        for j in range(16):\n",
    "            if bookList[i][j] == 0:\n",
    "                continue\n",
    "            else:\n",
    "                temp.append(0)\n",
    "                temp[j] = chr(bookList[i][j])\n",
    "\n",
    "        for i in temp:\n",
    "            cleanBook.append(i)\n",
    "    \n",
    "    bookString = listToString(cleanBook)\n",
    "    \n",
    "    f.write(bookString)\n",
    "            \n",
    "def listToStringEncrypt(listBook):\n",
    "    temp = \"\"\n",
    "    for i in listBook:\n",
    "        temp += str(i)\n",
    "        temp += ','\n",
    "    return temp\n",
    "\n",
    "def listToString(listBook):\n",
    "    temp = \"\"\n",
    "    for i in listBook:\n",
    "        temp += i\n",
    "    return temp"
   ]
  },
  {
   "cell_type": "code",
   "execution_count": 2842,
   "metadata": {},
   "outputs": [
    {
     "name": "stdout",
     "output_type": "stream",
     "text": [
      "Encryption time is 10.793421506881714\n",
      "Decryption time is 28.206042289733887\n"
     ]
    }
   ],
   "source": [
    "import time\n",
    "\n",
    "originalBook = open(\"tWotW.txt\",\"r\")\n",
    "originalBook = originalBook.read()\n",
    "key = getKey(\"realKey\") \n",
    "\n",
    "start = time.time()\n",
    "encryptedBook = encryptWotw(originalBook,key)\n",
    "writeToFileEncrypted(encryptedBook,\"encryptedWotW.txt\")\n",
    "end = time.time()\n",
    "encryptionTime = end - start\n",
    "\n",
    "\n",
    "start = time.time()\n",
    "decryptedBook = decryptWotw(key, \"encryptedWotW.txt\")\n",
    "writeToFileDecrypted(decryptedBook,\"decryptedWotW.txt\")\n",
    "end = time.time()\n",
    "decryptionTime = end - start\n",
    "\n",
    "\n",
    "print(f'Encryption time is {encryptionTime}')\n",
    "print(f'Decryption time is {decryptionTime}')"
   ]
  },
  {
   "cell_type": "markdown",
   "metadata": {},
   "source": [
    "# Lab 6"
   ]
  },
  {
   "cell_type": "markdown",
   "metadata": {},
   "source": [
    "By now you should have implemented the methods encrypt() and decrypt(). Both take one block and one key as input and output a block. In the last lab you will apply your implementation to a larger file, analyse your results and prepare for your examination on the project.\n",
    "\n",
    "A large text file tWotW.txt is now available on Learn. Your task is to read this file, split it into blocks,encrypt the blocks, and produce an encrypted version of the file. Read the encrypted file block by block and decrypt it."
   ]
  },
  {
   "cell_type": "markdown",
   "metadata": {},
   "source": [
    "## Key\n",
    "\n",
    "### Question 1: What is the encryption key are you using (in hex format)?\n",
    "\n",
    "Question 1 answer: 2b66eefc3568b5de89b7abdaf9ccd45667b374e861ed7b6c2bc9fc007f9dc074 which is a randomly generated key from the internet.\n"
   ]
  },
  {
   "cell_type": "markdown",
   "metadata": {},
   "source": [
    "### Question 2: What is the avalanche effect in cryptography? If one bit is changed in a key, what should happen to the ciphertext? This is a theoretical question, no need to demonstrate this in practice.\n",
    "\n",
    "Question 2 answer: The avalanche effect states that a small change to the key should produce a big change in the ciphertext, the ciphertext should look very different. Similar to how an avalanche can start with something small but cause a huge avalanche\n",
    "\n"
   ]
  },
  {
   "cell_type": "markdown",
   "metadata": {},
   "source": [
    "## Confusion and diffusion\n",
    "\n",
    "See: https://en.wikipedia.org/wiki/Confusion_and_diffusion\n",
    "### Question 3: What is confusion and how is it achieved in AES?\n",
    "\n",
    "Question 3 answer: Confusion is used to obscure the connection between the key and the ciphertext, this is achieved by hiding the relationship between the key and the cyphertext. In AES this is achieved, if you replace the first number in testBlock from a 0 to 1, it completely changes the ciphertext (output from encrypt function). The main functions contributing to confusion in AES are addRoundKey amd subBytes, the round key uses the expanded key to obscure and subbytes uses an already calculated non-linear box to also achieve confusion."
   ]
  },
  {
   "cell_type": "markdown",
   "metadata": {},
   "source": [
    "### Question 4: What is diffusion and how is it achieved in AES?\n",
    "\n",
    "Question 4 answer: The idea of diffusion is that if someone inputs the same number or gives a pattern of numbers that the pattern or the number should be clearly shown in the cipher. For example, if the input is all zeros. Then the output should for example be all ones, or if an input like \"01020304\" then an output shouldn't be \"10203040\". Diffusion would aim at destroying these patterns, the functions that are used to provide full diffusion are shiftRows and mixColumns. These 2 work together to switch the places of the values in the input key to make them appear in different places in the output ciphertext."
   ]
  },
  {
   "cell_type": "markdown",
   "metadata": {},
   "source": [
    "## Mode of operation\n",
    "\n",
    "See: https://en.wikipedia.org/wiki/Block_cipher_mode_of_operation#Common_modes\n",
    "\n",
    "### Question 5: You are free to apply any mode of operation described in the article above. ECB is the easiest to implement, but it has some weaknesses. What are these weaknesses?\n",
    "\n",
    "Question 5 answer: Lack of diffusion, since it takes blocks and encrypts them individually the ciphertext produced can have a pretty clear pattern. After some googling I found out that the 2013 adobe password leak was partially due to ECB being used for encryption. ECB can also make protocols more susceptible to replay attacks but it seems like the main problem is the lack of diffusion.\n",
    "\n",
    "\n",
    "source for the adobe leak: https://nakedsecurity.sophos.com/2013/11/04/anatomy-of-a-password-disaster-adobes-giant-sized-cryptographic-blunder/"
   ]
  },
  {
   "cell_type": "markdown",
   "metadata": {},
   "source": [
    "### Question 6: A stronger mode from a security point-of-view is CBC. It is not much harder to implement but much stronger. What are the advantages and disadvantages of CBC compared to ECB?\n",
    "\n",
    "Question 6 answer: CBC works by XOR'ing the previous ciphertext block with the next plaintext block. This then provides diffusion by obscuring the link between data, in ECB 2 identical ciphertext blocks would produce the exact same plaintext blocks but in CBC that would not happen."
   ]
  },
  {
   "cell_type": "markdown",
   "metadata": {},
   "source": [
    "### Question 7: What mode of operation are you using? Describe how it works.\n",
    "\n",
    "Question 7 answer: I chose to use ECB. ECB divides the text into blocks and encrypts each block separately, this then produces blocks of ciphertext.\n",
    "\n"
   ]
  },
  {
   "cell_type": "markdown",
   "metadata": {},
   "source": [
    "## Performance\n",
    "\n",
    "### Question 8: How many blocks does the file tWotW.txt consist of?\n",
    "\n",
    "Question 8 answer: 21501\n"
   ]
  },
  {
   "cell_type": "markdown",
   "metadata": {},
   "source": [
    "### Question 9: How long does it take to read the file, encrypt it and store (write to disk) the encrypted file? You can import and use the time class in Python for this. Use any key you wish.\n",
    "\n",
    "Question 9 answer:\n",
    "\n"
   ]
  },
  {
   "cell_type": "markdown",
   "metadata": {},
   "source": [
    "### Question 10: How long does it take to read the encrypted file, decrypt it and store the plain text file?\n",
    "\n",
    "Question 10 answer:\n",
    "\n"
   ]
  },
  {
   "cell_type": "markdown",
   "metadata": {},
   "source": [
    "### Question 11: Do the encryption and decryption times differ? If so, why?\n",
    "\n",
    "Question 11 answer:\n",
    "\n"
   ]
  },
  {
   "cell_type": "markdown",
   "metadata": {},
   "source": [
    "### Question 12: Give suggestions regarding how you could improve the performance of your code.\n",
    "\n",
    "Question 12 answer:\n",
    "\n"
   ]
  },
  {
   "cell_type": "markdown",
   "metadata": {},
   "source": [
    "### Question 13: Try to compress (.zip or other compression) both the plain text file and the encrypted file. Are there any differences in the size of these files? If so why? Is it better to compress first and encrypt later or encrypt first and compress later? Motivate your answer!\n",
    "\n",
    "Question 13 answer:\n",
    "\n"
   ]
  },
  {
   "cell_type": "markdown",
   "metadata": {},
   "source": [
    "### Notes:\n",
    "\n",
    "During your presentation we will look at your code together and we will ask questions regarding your implementation. You must be able to explain how all parts of your code works. Feel free to add comments to the code and text cells to help your explanation.\n",
    "\n",
    "If you get help from others you **MUST** comment this in your code. You should comment if you have discussed your code or collaborated with fellow students and comment this for every method and give credit to the right person. The same goes if you have looked at code from the internet. Provide links.\n",
    "\n",
    "Upload the encrypted version encryptedtWOW.txt of the original file tWOW.txt to Learn, as well. Make sure that the decrypted file is identical to the original file tWOW.txt."
   ]
  }
 ],
 "metadata": {
  "kernelspec": {
   "display_name": "Python 3.10.1 64-bit",
   "language": "python",
   "name": "python3"
  },
  "language_info": {
   "codemirror_mode": {
    "name": "ipython",
    "version": 3
   },
   "file_extension": ".py",
   "mimetype": "text/x-python",
   "name": "python",
   "nbconvert_exporter": "python",
   "pygments_lexer": "ipython3",
   "version": "3.10.1"
  },
  "vscode": {
   "interpreter": {
    "hash": "6b41b13da69560a918c3d64d2127bc4b8ad8695f4f03e3c7564df4d35b03275b"
   }
  }
 },
 "nbformat": 4,
 "nbformat_minor": 4
}
